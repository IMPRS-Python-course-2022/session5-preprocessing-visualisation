{
 "cells": [
  {
   "cell_type": "markdown",
   "metadata": {},
   "source": [
    "# In-class exercises\n",
    "\n",
    "Load in the merged trials datafile from the lecture. Try to do some additional analyses, and make some more plots, using this data! For instance (but feel free to try other things if you have ideas):\n",
    "\n",
    "- First aggregate per participant. Use this data to recreate the plots we saw before (using seaborn and/or plotnine). What's different, and why?\n",
    "- Try to use .pivot() from pandas to create a dataframe with one row for each participant, and a mean reaction time column for each condition. (see https://pandas.pydata.org/docs/user_guide/reshaping.html) What are the advantages/disadvantages of having your data in this format? Try to use seaborn and/or plotnine to draw a boxplot again. Why is it more difficult now?\n",
    "- Using seaborn and plotnine, try to use facets/subplots to create boxplots both per participant and condition (so 3x10 = 30 boxes in total).\n",
    "- Use seaborn and/or plotnine to create a violin plot!"
   ]
  },
  {
   "cell_type": "code",
   "execution_count": null,
   "metadata": {},
   "outputs": [],
   "source": []
  }
 ],
 "metadata": {
  "language_info": {
   "name": "python"
  },
  "orig_nbformat": 4
 },
 "nbformat": 4,
 "nbformat_minor": 2
}
